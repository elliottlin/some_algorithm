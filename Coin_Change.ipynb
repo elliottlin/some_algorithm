{
 "cells": [
  {
   "cell_type": "code",
   "execution_count": null,
   "metadata": {
    "collapsed": true
   },
   "outputs": [],
   "source": [
    "###"
   ]
  },
  {
   "cell_type": "code",
   "execution_count": 1,
   "metadata": {
    "collapsed": true
   },
   "outputs": [],
   "source": [
    "class Solution(object):\n",
    "    def coinChange(self, coins, amount):\n",
    "        Max = amount +1\n",
    "        dp  = [Max]*Max\n",
    "        \n",
    "        dp[0]=0\n",
    "        for cur_a in range(1, amount+1):\n",
    "            for coin in coins:\n",
    "                if coin <= cur_a:\n",
    "                    dp[cur_a] = min(dp[cur_a], dp[cur_a - coin] + 1)\n",
    "        print(dp)\n",
    "        return -1 if dp[amount] > amount else dp[amount]"
   ]
  },
  {
   "cell_type": "code",
   "execution_count": 2,
   "metadata": {},
   "outputs": [
    {
     "name": "stdout",
     "output_type": "stream",
     "text": [
      "[0, 1, 2, 3, 4, 5, 6, 1, 2, 3, 4, 5, 6, 1, 2, 3, 4, 5, 6, 7, 2]\n",
      "2\n"
     ]
    }
   ],
   "source": [
    "sol = Solution()\n",
    "coins = [1,7,13]\n",
    "amount = 20\n",
    "print(sol.coinChange(coins, amount))"
   ]
  },
  {
   "cell_type": "markdown",
   "metadata": {},
   "source": [
    "### Recursive method"
   ]
  },
  {
   "cell_type": "code",
   "execution_count": 3,
   "metadata": {
    "collapsed": true
   },
   "outputs": [],
   "source": [
    "def coinChange(coins, amount):\n",
    "    Max = amount + 1\n",
    "\n",
    "    if amount == 0 :\n",
    "        return 0\n",
    "    if amount < 0:\n",
    "        return -1\n",
    "    \n",
    "    cur = Max\n",
    "    for coin in coins:\n",
    "        if coin <= amount:\n",
    "            ways = coinChange(coins, amount - coin)+1\n",
    "            \n",
    "            if ways >= 0:\n",
    "                cur = min(cur,ways)\n",
    "                \n",
    "    return -1 if cur==Max else cur"
   ]
  },
  {
   "cell_type": "code",
   "execution_count": 4,
   "metadata": {},
   "outputs": [
    {
     "data": {
      "text/plain": [
       "[1, 2, 3, 4, 5, 6, 1, 2, 3, 4, 5, 6, 1, 2, 3, 4, 5, 6, 7, 2]"
      ]
     },
     "execution_count": 4,
     "metadata": {},
     "output_type": "execute_result"
    }
   ],
   "source": [
    "[coinChange(coins,a) for a in range(1,amount+1)]"
   ]
  },
  {
   "cell_type": "code",
   "execution_count": null,
   "metadata": {
    "collapsed": true
   },
   "outputs": [],
   "source": []
  }
 ],
 "metadata": {
  "kernelspec": {
   "display_name": "Python 3",
   "language": "python",
   "name": "python3"
  },
  "language_info": {
   "codemirror_mode": {
    "name": "ipython",
    "version": 3
   },
   "file_extension": ".py",
   "mimetype": "text/x-python",
   "name": "python",
   "nbconvert_exporter": "python",
   "pygments_lexer": "ipython3",
   "version": "3.5.2"
  }
 },
 "nbformat": 4,
 "nbformat_minor": 2
}
