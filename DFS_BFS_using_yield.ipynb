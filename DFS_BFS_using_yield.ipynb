{
 "cells": [
  {
   "cell_type": "code",
   "execution_count": 1,
   "metadata": {
    "collapsed": true
   },
   "outputs": [],
   "source": [
    "g_set = {'A': set(['B', 'C']),\n",
    "         'B': set(['A', 'D', 'E']),\n",
    "         'C': set(['A', 'F']),\n",
    "         'D': set(['B']),\n",
    "         'E': set(['B', 'F']),\n",
    "         'F': set(['C', 'E'])}"
   ]
  },
  {
   "cell_type": "markdown",
   "metadata": {},
   "source": [
    "## Depth first search"
   ]
  },
  {
   "cell_type": "code",
   "execution_count": 2,
   "metadata": {},
   "outputs": [
    {
     "name": "stdout",
     "output_type": "stream",
     "text": [
      "[['A', 'B', 'E', 'F'], ['A', 'C', 'F']]\n"
     ]
    }
   ],
   "source": [
    "def dfs_path(graph, start, end):\n",
    "    stack = [ (start, [ start ]) ]\n",
    "    while stack:\n",
    "        (v, path) = stack.pop()\n",
    "        for neighbor in graph[v] - set(path):\n",
    "            if neighbor == end:\n",
    "                yield path+[neighbor]\n",
    "            else:\n",
    "                stack.append((neighbor, path+[neighbor]))\n",
    "\n",
    "print(list(dfs_path(g_set, 'A', 'F')))"
   ]
  },
  {
   "cell_type": "markdown",
   "metadata": {},
   "source": [
    "## Breadth first search\n",
    "### shorter path to end is listed compare to DFS"
   ]
  },
  {
   "cell_type": "code",
   "execution_count": 4,
   "metadata": {},
   "outputs": [
    {
     "name": "stdout",
     "output_type": "stream",
     "text": [
      "[['A', 'C', 'F'], ['A', 'B', 'E', 'F']]\n"
     ]
    }
   ],
   "source": [
    "def bfs_path(graph, start, end):\n",
    "    queue = [(start, [ start]) ]\n",
    "    while queue:\n",
    "        (v, path) = queue.pop(0)\n",
    "        for neighbor in graph[v] - set(path):\n",
    "            if neighbor == end :\n",
    "                yield path+[neighbor]\n",
    "            else:\n",
    "                queue.append((neighbor,  path+[neighbor]))\n",
    "                \n",
    "print( list( bfs_path(g_set, 'A', 'F')))"
   ]
  },
  {
   "cell_type": "code",
   "execution_count": null,
   "metadata": {
    "collapsed": true
   },
   "outputs": [],
   "source": []
  }
 ],
 "metadata": {
  "kernelspec": {
   "display_name": "Python 3",
   "language": "python",
   "name": "python3"
  },
  "language_info": {
   "codemirror_mode": {
    "name": "ipython",
    "version": 3
   },
   "file_extension": ".py",
   "mimetype": "text/x-python",
   "name": "python",
   "nbconvert_exporter": "python",
   "pygments_lexer": "ipython3",
   "version": "3.5.2"
  }
 },
 "nbformat": 4,
 "nbformat_minor": 2
}
