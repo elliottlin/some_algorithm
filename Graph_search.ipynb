{
 "cells": [
  {
   "cell_type": "code",
   "execution_count": 11,
   "metadata": {},
   "outputs": [],
   "source": [
    "from MyGraph import Graph"
   ]
  },
  {
   "cell_type": "code",
   "execution_count": 12,
   "metadata": {
    "collapsed": true
   },
   "outputs": [],
   "source": [
    "g = { \"a\" : [\"c\"],\n",
    "          \"b\" : [\"c\", \"e\"],\n",
    "          \"c\" : [\"a\", \"b\", \"d\", \"e\"],\n",
    "          \"d\" : [\"c\"],\n",
    "          \"e\" : [\"c\", \"b\"],\n",
    "          \"f\" : []\n",
    "        }"
   ]
  },
  {
   "cell_type": "code",
   "execution_count": 13,
   "metadata": {},
   "outputs": [
    {
     "name": "stdout",
     "output_type": "stream",
     "text": [
      "Vertices of graph:\n",
      "['a', 'f', 'b', 'c', 'e', 'd']\n",
      "Edges of graph:\n",
      "[{'a', 'c'}, {'c', 'b'}, {'e', 'b'}, {'c', 'd'}, {'c', 'e'}]\n",
      "Add vertex:\n",
      "Vertices of graph:\n",
      "['a', 'f', 'b', 'c', 'z', 'e', 'd']\n",
      "Add an edge:\n",
      "Vertices of graph:\n",
      "['a', 'f', 'b', 'c', 'z', 'e', 'd']\n",
      "Edges of graph:\n",
      "[{'a', 'c'}, {'c', 'b'}, {'e', 'b'}, {'c', 'd'}, {'c', 'e'}, {'z', 'a'}]\n",
      "Adding an edge {\"x\",\"y\"} with new vertices:\n",
      "Vertices of graph:\n",
      "['a', 'f', 'b', 'x', 'c', 'z', 'e', 'd']\n",
      "Edges of graph:\n",
      "[{'a', 'c'}, {'c', 'b'}, {'e', 'b'}, {'x', 'y'}, {'c', 'd'}, {'c', 'e'}, {'z', 'a'}]\n"
     ]
    }
   ],
   "source": [
    "graph = Graph(g)\n",
    "\n",
    "print(\"Vertices of graph:\")\n",
    "print(graph.vertices())\n",
    "\n",
    "print(\"Edges of graph:\")\n",
    "print(graph.edges())\n",
    "\n",
    "print(\"Add vertex:\")\n",
    "graph.add_vertex(\"z\")\n",
    "\n",
    "print(\"Vertices of graph:\")\n",
    "print(graph.vertices())\n",
    " \n",
    "print(\"Add an edge:\")\n",
    "graph.add_edge({\"a\",\"z\"})\n",
    "    \n",
    "print(\"Vertices of graph:\")\n",
    "print(graph.vertices())\n",
    "\n",
    "print(\"Edges of graph:\")\n",
    "print(graph.edges())\n",
    "\n",
    "print('Adding an edge {\"x\",\"y\"} with new vertices:')\n",
    "graph.add_edge({\"x\",\"y\"})\n",
    "print(\"Vertices of graph:\")\n",
    "print(graph.vertices())\n",
    "print(\"Edges of graph:\")\n",
    "print(graph.edges())\n",
    "\n",
    "    "
   ]
  },
  {
   "cell_type": "code",
   "execution_count": 14,
   "metadata": {},
   "outputs": [
    {
     "name": "stdout",
     "output_type": "stream",
     "text": [
      "The path from vertex \"a\" to vertex \"b\":\n",
      "['a', 'c', 'b']\n",
      "The path from vertex \"a\" to vertex \"f\":\n",
      "None\n",
      "The path from vertex \"c\" to vertex \"c\":\n",
      "['c']\n"
     ]
    }
   ],
   "source": [
    "print('The path from vertex \"a\" to vertex \"b\":')\n",
    "path = graph.find_path(\"a\", \"b\")\n",
    "print(path)\n",
    "\n",
    "print('The path from vertex \"a\" to vertex \"f\":')\n",
    "path = graph.find_path(\"a\", \"f\")\n",
    "print(path)\n",
    "\n",
    "print('The path from vertex \"c\" to vertex \"c\":')\n",
    "path = graph.find_path(\"c\", \"c\")\n",
    "print(path)"
   ]
  },
  {
   "cell_type": "code",
   "execution_count": 15,
   "metadata": {},
   "outputs": [
    {
     "name": "stdout",
     "output_type": "stream",
     "text": [
      "Edges of graph:\n",
      "[{'a', 'd'}, {'a', 'f'}, {'f', 'd'}, {'c', 'b'}, {'c'}, {'c', 'd'}, {'c', 'e'}]\n",
      "All paths from vertex \"a\" to vertex \"b\":\n",
      "[['a', 'd', 'c', 'b'], ['a', 'f', 'd', 'c', 'b']]\n",
      "All paths from vertex \"a\" to vertex \"f\":\n",
      "[['a', 'f']]\n",
      "All paths from vertex \"c\" to vertex \"c\":\n",
      "[['c']]\n"
     ]
    }
   ],
   "source": [
    "g = { \"a\" : [\"d\", \"f\"],\n",
    "      \"b\" : [\"c\"],\n",
    "      \"c\" : [\"b\", \"c\", \"d\", \"e\"],\n",
    "      \"d\" : [\"a\", \"c\"],\n",
    "      \"e\" : [\"c\"],\n",
    "      \"f\" : [\"d\"]\n",
    "    }\n",
    "\n",
    "\n",
    "graph = Graph(g)\n",
    "\n",
    "print(\"Edges of graph:\")\n",
    "print(graph.edges())\n",
    "    \n",
    "print('All paths from vertex \"a\" to vertex \"b\":')\n",
    "path = graph.find_all_paths(\"a\", \"b\")\n",
    "print(path)\n",
    "\n",
    "print('All paths from vertex \"a\" to vertex \"f\":')\n",
    "path = graph.find_all_paths(\"a\", \"f\")\n",
    "print(path)\n",
    "\n",
    "print('All paths from vertex \"c\" to vertex \"c\":')\n",
    "path = graph.find_all_paths(\"c\", \"c\")\n",
    "print(path)"
   ]
  },
  {
   "cell_type": "code",
   "execution_count": 47,
   "metadata": {},
   "outputs": [],
   "source": []
  },
  {
   "cell_type": "code",
   "execution_count": 53,
   "metadata": {},
   "outputs": [
    {
     "name": "stdout",
     "output_type": "stream",
     "text": [
      "[['A', 'B', 'E', 'F'], ['A', 'C', 'F']]\n"
     ]
    }
   ],
   "source": []
  },
  {
   "cell_type": "code",
   "execution_count": 55,
   "metadata": {},
   "outputs": [
    {
     "name": "stdout",
     "output_type": "stream",
     "text": [
      "[['A', 'C', 'F'], ['A', 'B', 'E', 'F']]\n"
     ]
    }
   ],
   "source": []
  },
  {
   "cell_type": "code",
   "execution_count": null,
   "metadata": {
    "collapsed": true
   },
   "outputs": [],
   "source": []
  }
 ],
 "metadata": {
  "kernelspec": {
   "display_name": "Python 3",
   "language": "python",
   "name": "python3"
  },
  "language_info": {
   "codemirror_mode": {
    "name": "ipython",
    "version": 3
   },
   "file_extension": ".py",
   "mimetype": "text/x-python",
   "name": "python",
   "nbconvert_exporter": "python",
   "pygments_lexer": "ipython3",
   "version": "3.5.2"
  }
 },
 "nbformat": 4,
 "nbformat_minor": 2
}
